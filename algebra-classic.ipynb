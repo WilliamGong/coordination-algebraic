{
 "cells": [
  {
   "attachments": {},
   "cell_type": "markdown",
   "metadata": {},
   "source": [
    "# 概述\n",
    "经典数解法    \n",
    "干道协调，对称放行，一个7个路口，ABCDEFG    \n",
    "间距：300，250，380，450，300，210    \n",
    "绿信比：0.5, 0.55, 0.6, 0.6, 0.5, 0.7, 0.55    \n",
    "公共信号周期范围：40-120s    \n",
    "速度：12m/s (43.2km/h)  "
   ]
  },
  {
   "cell_type": "code",
   "execution_count": 1,
   "metadata": {},
   "outputs": [],
   "source": [
    "import pandas as pd\n",
    "import numpy as np\n",
    "import math\n",
    "\n",
    "# parameters\n",
    "node_list = ['A', 'B', 'C', 'D', 'E', 'F', 'G']\n",
    "spacing = [300, 250, 380, 450, 300, 210]\n",
    "ratio = [0.5, 0.55, 0.6, 0.6, 0.5, 0.7, 0.55]    # green time ratio\n",
    "c = 80\n",
    "step = 1    # idea distance will iterate with step\n",
    "v = 12    # unit: m/s\n",
    "M = 200"
   ]
  },
  {
   "cell_type": "code",
   "execution_count": 2,
   "metadata": {},
   "outputs": [
    {
     "name": "stdout",
     "output_type": "stream",
     "text": [
      "idea distance in: 280 to 680\n"
     ]
    }
   ],
   "source": [
    "a = round(0.5 * v * c)\n",
    "idea_dis_min = a - M \n",
    "idea_dis_max = a + M\n",
    "print(\"idea distance in: {} to {}\".format(idea_dis_min, idea_dis_max))"
   ]
  },
  {
   "attachments": {},
   "cell_type": "markdown",
   "metadata": {},
   "source": [
    "# 最佳间距及周期"
   ]
  },
  {
   "cell_type": "code",
   "execution_count": 3,
   "metadata": {},
   "outputs": [
    {
     "name": "stdout",
     "output_type": "stream",
     "text": [
      "[0, 300, 550, 930, 1380, 1680, 1890]\n",
      "    idea_dis  A    B    C    D    E    F    G    b b_index\n",
      "0        280  0   20  270   90  260    0  210  120       3\n",
      "1        281  0   19  269   87  256  275  204  117       2\n",
      "2        282  0   18  268   84  252  270  198  114       2\n",
      "3        283  0   17  267   81  248  265  192  111       2\n",
      "4        284  0   16  266   78  244  260  186  108       2\n",
      "..       ... ..  ...  ...  ...  ...  ...  ...  ...     ...\n",
      "396      676  0  300  550  254   28  328  538  226       1\n",
      "397      677  0  300  550  253   26  326  536  227       1\n",
      "398      678  0  300  550  252   24  324  534  228       1\n",
      "399      679  0  300  550  251   22  322  532  229       1\n",
      "400      680  0  300  550  250   20  320  530  230       1\n",
      "\n",
      "[401 rows x 10 columns]\n",
      "  idea_dis  A    B    C    D   E    F    G    b b_index\n",
      "0      680  0  300  550  250  20  320  530  230       1\n",
      "113.33333333333333\n"
     ]
    }
   ],
   "source": [
    "cols = ['idea_dis'] + node_list + ['b', 'b_index']\n",
    "dis_diff = pd.DataFrame(columns=cols)\n",
    "\n",
    "dis = [0] + spacing\n",
    "dis_pre = [0]\n",
    "for i in range(1, len(dis)):\n",
    "    dis_pre.append(dis_pre[-1] + dis[i])\n",
    "print(dis_pre)\n",
    "\n",
    "for i in range(idea_dis_min, idea_dis_max+step, step):\n",
    "    tmp = []\n",
    "    for j in dis_pre:\n",
    "        tmp.append(j % i)\n",
    "        \n",
    "    #print(tmp)\n",
    "\n",
    "    tmp_sorted = sorted(tmp)\n",
    "    tmp_sorted.append(i)\n",
    "    #print(tmp_sorted)\n",
    "\n",
    "    tmp_diff = []\n",
    "    for j in range(1, len(tmp_sorted)):\n",
    "        tmp_diff.append(tmp_sorted[j] - tmp_sorted[j-1])\n",
    "    #tmp_diff.append(tmp_sorted[0] - tmp_sorted[-1])\n",
    "    #print(tmp_diff)\n",
    "\n",
    "    diff_max = max(tmp_diff)\n",
    "    diff_max_id = tmp_diff.index(diff_max)\n",
    "    #print(diff_max)\n",
    "\n",
    "    row = [i] + tmp + [diff_max, diff_max_id]\n",
    "    #print(row)\n",
    "\n",
    "    dis_diff.loc[len(dis_diff.index)] = row \n",
    "\n",
    "print(dis_diff)\n",
    "\n",
    "dis_diff_max = dis_diff[dis_diff['b'] == dis_diff['b'].max()]\n",
    "dis_diff_max = dis_diff_max.reset_index(drop=True)\n",
    "print(dis_diff_max)\n",
    "\n",
    "dis_opt = dis_diff_max.at[0, 'idea_dis']\n",
    "\n",
    "c_opt = 2 * dis_opt / v\n",
    "print(c_opt)"
   ]
  },
  {
   "attachments": {},
   "cell_type": "markdown",
   "metadata": {},
   "source": [
    "# 实际交叉口对应理想交叉口的编号和方位"
   ]
  },
  {
   "cell_type": "code",
   "execution_count": 4,
   "metadata": {},
   "outputs": [
    {
     "name": "stdout",
     "output_type": "stream",
     "text": [
      "idea_dis    680\n",
      "A             0\n",
      "B           300\n",
      "C           550\n",
      "D           250\n",
      "E            20\n",
      "F           320\n",
      "G           530\n",
      "b           230\n",
      "b_index       1\n",
      "Name: 0, dtype: object\n",
      "count: 4\n",
      "A      0\n",
      "B    300\n",
      "C    550\n",
      "D    250\n",
      "E     20\n",
      "F    320\n",
      "G    530\n",
      "Name: 0, dtype: object\n",
      "[0, 1, 1, 2, 2, 3, 3]\n",
      "[1, 0, 1, 0, 1, 0, 1]\n",
      "[205.0, -175.0, 75.0, -225.0, 225.0, -155.0, 55.0]\n"
     ]
    }
   ],
   "source": [
    "dis_diff_opt = dis_diff_max.loc[0]\n",
    "print(dis_diff_opt)\n",
    "\n",
    "ideas_count = int(np.ceil(dis_pre[-1] / dis_diff_opt['idea_dis']) + 1)\n",
    "print(\"count: {}\".format(ideas_count))\n",
    "\n",
    "id_reals_to_ideas = []    # the id of ideas matched to reals\n",
    "pos_reals_to_ideas = []    # 0 means real is on the left, 1 means right\n",
    "dis_reals_to_ideas = []\n",
    "\n",
    "list_dis_diff_opt = dis_diff_opt[1:-2]\n",
    "print(list_dis_diff_opt)\n",
    "list_dis_diff_opt = list(list_dis_diff_opt.values)\n",
    "list_dis_diff_opt.sort()\n",
    "\n",
    "x = (dis_diff_opt['idea_dis'] - dis_diff_opt['b']) / 2\n",
    "y = list_dis_diff_opt[dis_diff_opt['b_index']]\n",
    "offset = x - y    # offset for dis_pre\n",
    "dis_pre_offseted = [i + offset for i in dis_pre]\n",
    "#print(\"offseted: {}\".format(dis_pre_offseted))\n",
    "\n",
    "for i in range(len(dis_pre_offseted)):\n",
    "    dis_real_to_ideas = []\n",
    "    dis_abs = []\n",
    "\n",
    "    for j in range(ideas_count):\n",
    "        tmp = dis_pre_offseted[i] - dis_diff_opt['idea_dis']*j\n",
    "        dis_real_to_ideas.append(tmp)\n",
    "        dis_abs.append(np.abs(tmp))\n",
    "    #print(dis_real_to_ideas)\n",
    "\n",
    "    dis_min = np.min(dis_abs)\n",
    "    dis_min_index = dis_abs.index(dis_min)\n",
    "    #print(\"id: {}, val: {}\".format(dis_min_index, dis_min))\n",
    "\n",
    "    id_reals_to_ideas.append(dis_min_index)\n",
    "    dis_reals_to_ideas.append(dis_real_to_ideas[dis_min_index])\n",
    "\n",
    "    if dis_real_to_ideas[dis_min_index] < 0:\n",
    "        pos_reals_to_ideas.append(0)\n",
    "    else:\n",
    "        pos_reals_to_ideas.append(1)\n",
    "\n",
    "print(id_reals_to_ideas)\n",
    "print(pos_reals_to_ideas)\n",
    "print(dis_reals_to_ideas)"
   ]
  },
  {
   "attachments": {},
   "cell_type": "markdown",
   "metadata": {},
   "source": [
    "# 损失，相位差"
   ]
  },
  {
   "cell_type": "code",
   "execution_count": 5,
   "metadata": {},
   "outputs": [
    {
     "name": "stdout",
     "output_type": "stream",
     "text": [
      "loss: [0.3014705882352941, 0.25735294117647056, 0.11029411764705882, 0.33088235294117646, 0.33088235294117646, 0.22794117647058823, 0.08088235294117647]\n",
      "phase different: [0.25, 0.725, 0.7, 0.2, 0.25, 0.65, 0.725]\n",
      "valid ratio: [0.1985294117647059, 0.2926470588235295, 0.48970588235294116, 0.2691176470588235, 0.16911764705882354, 0.47205882352941175, 0.4691176470588236]\n",
      "width: 0.21911764705882353\n"
     ]
    }
   ],
   "source": [
    "# lost green time ratio\n",
    "loss = [np.abs(i / dis_diff_opt['idea_dis']) for i in dis_reals_to_ideas]\n",
    "loss\n",
    "\n",
    "phase_diff = []\n",
    "for i in range(len(id_reals_to_ideas)):\n",
    "    if id_reals_to_ideas[i] % 2 == 0:\n",
    "        phase_diff.append(0.5 - 0.5*ratio[i])\n",
    "    else:\n",
    "        phase_diff.append(1 - 0.5*ratio[i])\n",
    "\n",
    "valid = []    # valid green time ratio\n",
    "for i in range(len(ratio)):\n",
    "    valid.append(ratio[i] - loss[i])\n",
    "\n",
    "valid_left = []\n",
    "valid_right= []\n",
    "for i in range(len(pos_reals_to_ideas)):\n",
    "    if pos_reals_to_ideas[i] == 0:\n",
    "        valid_left.append(valid[i])\n",
    "    else:\n",
    "        valid_right.append(valid[i])\n",
    "\n",
    "width = (min(valid_left) + min(valid_right)) * 0.5\n",
    "\n",
    "print(\"loss: {}\".format(loss))\n",
    "print(\"phase different: {}\".format(phase_diff))\n",
    "print(\"valid ratio: {}\".format(valid))\n",
    "print(\"width: {}\".format(width))"
   ]
  },
  {
   "attachments": {},
   "cell_type": "markdown",
   "metadata": {},
   "source": [
    "# 结果展示"
   ]
  },
  {
   "cell_type": "code",
   "execution_count": 6,
   "metadata": {},
   "outputs": [
    {
     "name": "stdout",
     "output_type": "stream",
     "text": [
      "Optimal cycle: 113.33333333333333\n",
      "Band width: 0.21911764705882353\n"
     ]
    },
    {
     "data": {
      "text/html": [
       "<div>\n",
       "<style scoped>\n",
       "    .dataframe tbody tr th:only-of-type {\n",
       "        vertical-align: middle;\n",
       "    }\n",
       "\n",
       "    .dataframe tbody tr th {\n",
       "        vertical-align: top;\n",
       "    }\n",
       "\n",
       "    .dataframe thead th {\n",
       "        text-align: right;\n",
       "    }\n",
       "</style>\n",
       "<table border=\"1\" class=\"dataframe\">\n",
       "  <thead>\n",
       "    <tr style=\"text-align: right;\">\n",
       "      <th></th>\n",
       "      <th>A</th>\n",
       "      <th>B</th>\n",
       "      <th>C</th>\n",
       "      <th>D</th>\n",
       "      <th>E</th>\n",
       "      <th>F</th>\n",
       "      <th>G</th>\n",
       "    </tr>\n",
       "  </thead>\n",
       "  <tbody>\n",
       "    <tr>\n",
       "      <th>ideal intersection id</th>\n",
       "      <td>0</td>\n",
       "      <td>1</td>\n",
       "      <td>1</td>\n",
       "      <td>2</td>\n",
       "      <td>2</td>\n",
       "      <td>3</td>\n",
       "      <td>3</td>\n",
       "    </tr>\n",
       "    <tr>\n",
       "      <th>position</th>\n",
       "      <td>right</td>\n",
       "      <td>left</td>\n",
       "      <td>right</td>\n",
       "      <td>left</td>\n",
       "      <td>right</td>\n",
       "      <td>left</td>\n",
       "      <td>right</td>\n",
       "    </tr>\n",
       "    <tr>\n",
       "      <th>green time ratio</th>\n",
       "      <td>0.5</td>\n",
       "      <td>0.55</td>\n",
       "      <td>0.6</td>\n",
       "      <td>0.6</td>\n",
       "      <td>0.5</td>\n",
       "      <td>0.7</td>\n",
       "      <td>0.55</td>\n",
       "    </tr>\n",
       "    <tr>\n",
       "      <th>phase diffrernce</th>\n",
       "      <td>0.25</td>\n",
       "      <td>0.725</td>\n",
       "      <td>0.7</td>\n",
       "      <td>0.2</td>\n",
       "      <td>0.25</td>\n",
       "      <td>0.65</td>\n",
       "      <td>0.725</td>\n",
       "    </tr>\n",
       "    <tr>\n",
       "      <th>lost ratio</th>\n",
       "      <td>0.301471</td>\n",
       "      <td>0.257353</td>\n",
       "      <td>0.110294</td>\n",
       "      <td>0.330882</td>\n",
       "      <td>0.330882</td>\n",
       "      <td>0.227941</td>\n",
       "      <td>0.080882</td>\n",
       "    </tr>\n",
       "    <tr>\n",
       "      <th>valid ratio</th>\n",
       "      <td>0.198529</td>\n",
       "      <td>0.292647</td>\n",
       "      <td>0.489706</td>\n",
       "      <td>0.269118</td>\n",
       "      <td>0.169118</td>\n",
       "      <td>0.472059</td>\n",
       "      <td>0.469118</td>\n",
       "    </tr>\n",
       "  </tbody>\n",
       "</table>\n",
       "</div>"
      ],
      "text/plain": [
       "                              A         B         C         D         E  \\\n",
       "ideal intersection id         0         1         1         2         2   \n",
       "position                  right      left     right      left     right   \n",
       "green time ratio            0.5      0.55       0.6       0.6       0.5   \n",
       "phase diffrernce           0.25     0.725       0.7       0.2      0.25   \n",
       "lost ratio             0.301471  0.257353  0.110294  0.330882  0.330882   \n",
       "valid ratio            0.198529  0.292647  0.489706  0.269118  0.169118   \n",
       "\n",
       "                              F         G  \n",
       "ideal intersection id         3         3  \n",
       "position                   left     right  \n",
       "green time ratio            0.7      0.55  \n",
       "phase diffrernce           0.65     0.725  \n",
       "lost ratio             0.227941  0.080882  \n",
       "valid ratio            0.472059  0.469118  "
      ]
     },
     "execution_count": 6,
     "metadata": {},
     "output_type": "execute_result"
    }
   ],
   "source": [
    "idx = ['ideal intersection id', 'position', 'green time ratio', 'phase diffrernce', 'lost ratio', 'valid ratio']\n",
    "\n",
    "pos_char = []\n",
    "for i in pos_reals_to_ideas:\n",
    "    if i == 0:\n",
    "        pos_char.append('left')\n",
    "    else:\n",
    "        pos_char.append('right')\n",
    "\n",
    "print('Optimal cycle: {}'.format(c_opt))\n",
    "print('Band width: {}'.format(width))\n",
    "output_table = [id_reals_to_ideas, pos_char, ratio, phase_diff, loss, valid]\n",
    "df_output = pd.DataFrame(output_table, columns=node_list, index=idx)\n",
    "df_output"
   ]
  }
 ],
 "metadata": {
  "kernelspec": {
   "display_name": "Python 3",
   "language": "python",
   "name": "python3"
  },
  "language_info": {
   "codemirror_mode": {
    "name": "ipython",
    "version": 3
   },
   "file_extension": ".py",
   "mimetype": "text/x-python",
   "name": "python",
   "nbconvert_exporter": "python",
   "pygments_lexer": "ipython3",
   "version": "3.9.4"
  },
  "orig_nbformat": 4,
  "vscode": {
   "interpreter": {
    "hash": "44af2a1cb853a19c2479d4ddc5c23d79c0f33198d3b7c507de1ed35f94257700"
   }
  }
 },
 "nbformat": 4,
 "nbformat_minor": 2
}
